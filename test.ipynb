{
 "cells": [
  {
   "cell_type": "code",
   "execution_count": 30,
   "metadata": {},
   "outputs": [],
   "source": [
    "import numpy as np"
   ]
  },
  {
   "cell_type": "code",
   "execution_count": 31,
   "metadata": {},
   "outputs": [
    {
     "name": "stdout",
     "output_type": "stream",
     "text": [
      "Path 1: tau_p = 0, alpha_p = 1.0000, phi_p = 5.5529, h_tau_p = 0.7450-0.6670j\n",
      "Path 2: tau_p = 3, alpha_p = 0.6150, phi_p = 2.4691, h_tau_p = -0.4811+0.3831j\n",
      "Path 3: tau_p = 5, alpha_p = 0.4448, phi_p = 5.8109, h_tau_p = 0.3961-0.2023j\n",
      "Path 4: tau_p = 5, alpha_p = 0.4448, phi_p = 1.5810, h_tau_p = -0.0045+0.4448j\n",
      "Path 5: tau_p = 7, alpha_p = 0.3217, phi_p = 0.9920, h_tau_p = 0.1760+0.2693j\n",
      "Path 6: tau_p = 9, alpha_p = 0.2327, phi_p = 4.9440, h_tau_p = 0.0534-0.2264j\n",
      "Path 7: tau_p = 11, alpha_p = 0.1683, phi_p = 6.1136, h_tau_p = 0.1658-0.0284j\n",
      "Path 8: tau_p = 11, alpha_p = 0.1683, phi_p = 0.3898, h_tau_p = 0.1556+0.0639j\n",
      "Path 9: tau_p = 12, alpha_p = 0.1431, phi_p = 0.6283, h_tau_p = 0.1158+0.0841j\n",
      "Path 10: tau_p = 12, alpha_p = 0.1431, phi_p = 1.9974, h_tau_p = -0.0592+0.1303j\n",
      "Path 11: tau_p = 13, alpha_p = 0.1217, phi_p = 3.3046, h_tau_p = -0.1201-0.0198j\n",
      "Path 12: tau_p = 14, alpha_p = 0.1035, phi_p = 4.4251, h_tau_p = -0.0293-0.0992j\n",
      "Path 13: tau_p = 15, alpha_p = 0.0880, phi_p = 6.0039, h_tau_p = 0.0846-0.0243j\n",
      "Path 14: tau_p = 15, alpha_p = 0.0880, phi_p = 0.7403, h_tau_p = 0.0650+0.0594j\n",
      "Path 15: tau_p = 15, alpha_p = 0.0880, phi_p = 2.2388, h_tau_p = -0.0545+0.0691j\n",
      "Path 16: tau_p = 15, alpha_p = 0.0880, phi_p = 1.6731, h_tau_p = -0.0090+0.0875j\n",
      "Path 17: tau_p = 15, alpha_p = 0.0880, phi_p = 5.0732, h_tau_p = 0.0311-0.0823j\n",
      "Path 18: tau_p = 16, alpha_p = 0.0748, phi_p = 1.0277, h_tau_p = 0.0387+0.0641j\n",
      "Path 19: tau_p = 17, alpha_p = 0.0636, phi_p = 5.5093, h_tau_p = 0.0455-0.0445j\n",
      "Path 20: tau_p = 17, alpha_p = 0.0636, phi_p = 4.8614, h_tau_p = 0.0094-0.0629j\n",
      "Path 21: tau_p = 18, alpha_p = 0.0541, phi_p = 5.5532, h_tau_p = 0.0403-0.0361j\n",
      "Path 22: tau_p = 20, alpha_p = 0.0391, phi_p = 6.0895, h_tau_p = 0.0384-0.0075j\n",
      "Path 23: tau_p = 21, alpha_p = 0.0333, phi_p = 3.6031, h_tau_p = -0.0298-0.0148j\n"
     ]
    }
   ],
   "source": [
    "tau_relax = 27\n",
    "delta_tau = 5\n",
    "P = 23\n",
    "eta = np.random.uniform(0.01, 0.5)\n",
    "\n",
    "# The direct path tau_p = 0 \n",
    "tau_p = [0]\n",
    "\n",
    "# Generate remaining delays tau_p using uniform distribution, excluding zero, allowing repeats\n",
    "remaining_tau_p = np.random.randint(1, tau_relax - delta_tau + 1, P - 1)\n",
    "\n",
    "# Combine and sort \n",
    "tau_p = np.concatenate((tau_p, remaining_tau_p))\n",
    "tau_p = np.sort(tau_p)\n",
    "\n",
    "# Calculate amplitude gains alpha_p of h_tau_p\n",
    "alpha_p = np.exp(-eta * tau_p / 2)\n",
    "\n",
    "# Generate random phases phi_p\n",
    "phi_p = np.random.uniform(0, 2 * np.pi, P)\n",
    "\n",
    "# Calculate complex gains h_tau_p\n",
    "h_tau_p = alpha_p * np.exp(1j * phi_p)\n",
    "\n",
    "for p in range(P):\n",
    "    print(f\"Path {p + 1}: tau_p = {tau_p[p]}, alpha_p = {alpha_p[p]:.4f}, phi_p = {phi_p[p]:.4f}, h_tau_p = {h_tau_p[p]:.4f}\")\n"
   ]
  },
  {
   "cell_type": "code",
   "execution_count": 51,
   "metadata": {},
   "outputs": [],
   "source": [
    "eta = np.random.uniform(0.01, 0.5)\n",
    "def calculate_channel_gain_multi_path():\n",
    "    # The direct path tau_p = 0 \n",
    "    tau_p = [0]\n",
    "\n",
    "    # Generate remaining delays tau_p using uniform distribution, excluding zero, allowing repeats\n",
    "    remaining_tau_p = np.random.randint(1, tau_relax - delta_tau + 1, P - 1)\n",
    "\n",
    "    # Combine and sort \n",
    "    tau_p = np.concatenate((tau_p, remaining_tau_p))\n",
    "    tau_p = np.sort(tau_p)\n",
    "\n",
    "    # Calculate amplitude gains alpha_p of h_tau_p\n",
    "    alpha_p = np.exp(-eta * tau_p / 2)\n",
    "\n",
    "    # Generate random phases phi_p\n",
    "    phi_p = np.random.uniform(0, 2 * np.pi, P)\n",
    "\n",
    "    # Calculate complex gains h_tau_p\n",
    "    h_tau_p = alpha_p * np.exp(1j * phi_p)\n",
    "\n",
    "    return tau_p, h_tau_p"
   ]
  },
  {
   "cell_type": "code",
   "execution_count": 32,
   "metadata": {},
   "outputs": [
    {
     "name": "stdout",
     "output_type": "stream",
     "text": [
      "Data symbols d_k:\n",
      "128\n",
      "\n",
      "Time-domain samples s_n:\n",
      "128\n",
      "\n",
      "Time-domain samples with cyclic prefix s_cp:\n",
      "160\n"
     ]
    }
   ],
   "source": [
    "N = 128  # Number of sub-carriers\n",
    "Lc = 32  # Length of cyclic prefix\n",
    "\n",
    "# Step 1: Generate the data symbols d_k\n",
    "np.random.seed(0)  \n",
    "d_k = np.random.randn(N) + 1j * np.random.randn(N)  # Generate random complex symbols\n",
    "\n",
    "# Step 2: Calculate the time-domain samples s_n using IDFT\n",
    "s_n = np.zeros(N, dtype=complex)\n",
    "\n",
    "for n in range(N):\n",
    "    s_n[n] = (1/N) * np.sum(d_k * np.exp(1j * 2 * np.pi * np.arange(N) * n / N))\n",
    "\n",
    "# Step 3: Append the cyclic prefix (CP)\n",
    "cp = s_n[-Lc:]  # Last Lc samples of s_n\n",
    "s_cp = np.concatenate((cp, s_n))  # Append CP to the beginning of s_n\n",
    "\n",
    "print(\"Data symbols d_k:\")\n",
    "print(len(d_k))\n",
    "print(\"\\nTime-domain samples s_n:\")\n",
    "print(len(s_n))\n",
    "print(\"\\nTime-domain samples with cyclic prefix s_cp:\")\n",
    "print(len(s_cp))\n"
   ]
  },
  {
   "cell_type": "code",
   "execution_count": 50,
   "metadata": {},
   "outputs": [],
   "source": [
    "def generate_transmitted_signal():\n",
    "    # Step 1: Generate the data symbols d_k\n",
    "    d_k = np.random.randn(N) + 1j * np.random.randn(N)  # Generate random complex symbols\n",
    "\n",
    "    # Step 2: Calculate the time-domain samples s_n using IDFT\n",
    "    s_n = np.zeros(N, dtype=complex)\n",
    "\n",
    "    for n in range(N):\n",
    "        s_n[n] = (1/N) * np.sum(d_k * np.exp(1j * 2 * np.pi * np.arange(N) * n / N))\n",
    "\n",
    "    # Step 3: Append the cyclic prefix (CP)\n",
    "    cp = s_n[-Lc:]  # Last Lc samples of s_n\n",
    "    s_cp = np.concatenate((cp, s_n))  # Append CP to the beginning of s_n\n",
    "    return s_cp"
   ]
  },
  {
   "cell_type": "code",
   "execution_count": 33,
   "metadata": {},
   "outputs": [
    {
     "name": "stdout",
     "output_type": "stream",
     "text": [
      "tau_p:\n",
      "23\n",
      "\n",
      "h_tau_p:\n",
      "23\n",
      "\n",
      "Received signal r_n:\n",
      "288\n"
     ]
    }
   ],
   "source": [
    "Nu = N + Lc\n",
    "M = Nu + N\n",
    "P = 23\n",
    "epsilon = 0.1  # Example carrier frequency offset (CFO)\n",
    "\n",
    "# Generate time offset\n",
    "tilde_tau = np.random.randint(0, N)\n",
    "\n",
    "# Generate M-length received signal\n",
    "r_n = np.zeros(M, dtype=complex)\n",
    "w_n = np.random.randn(M) + 1j * np.random.randn(M)  # AWGN\n",
    "\n",
    "for n in range(M):\n",
    "    r_n[n] = np.sum([h_tau_p[p] * s_cp[(n - tilde_tau - tau_p[p]) % Nu] * \n",
    "                     np.exp(1j * 2 * np.pi * epsilon * (n - tilde_tau) / N) \n",
    "                     for p in range(P)]) + w_n[n]\n",
    "\n",
    "# Display results\n",
    "print(\"tau_p:\")\n",
    "print(len(tau_p))\n",
    "print(\"\\nh_tau_p:\")\n",
    "print(len(h_tau_p))\n",
    "print(\"\\nReceived signal r_n:\")\n",
    "print(len(r_n))\n"
   ]
  },
  {
   "cell_type": "code",
   "execution_count": 49,
   "metadata": {},
   "outputs": [],
   "source": [
    "def generate_received_signal():\n",
    "    # Generate time offset\n",
    "    tilde_tau = np.random.randint(0, N)\n",
    "\n",
    "    # Generate M-length received signal\n",
    "    r_n = np.zeros(M, dtype=complex)\n",
    "    w_n = np.random.randn(M) + 1j * np.random.randn(M)  \n",
    "\n",
    "    for n in range(M):\n",
    "        r_n[n] = np.sum([h_tau_p[p] * s_cp[(n - tilde_tau - tau_p[p]) % Nu] * \n",
    "                        np.exp(1j * 2 * np.pi * epsilon * (n - tilde_tau) / N) \n",
    "                        for p in range(P)]) + w_n[n]\n",
    "\n",
    "    return (tilde_tau, r_n)"
   ]
  },
  {
   "cell_type": "code",
   "execution_count": 44,
   "metadata": {},
   "outputs": [
    {
     "name": "stdout",
     "output_type": "stream",
     "text": [
      "(576, 1)\n"
     ]
    }
   ],
   "source": [
    "# Extract real and imaginary parts and interleave them\n",
    "y = np.zeros(2 * M)\n",
    "y[0::2] = np.real(r_n)  # Real parts at even indices\n",
    "y[1::2] = np.imag(r_n)  # Imaginary parts at odd indices\n",
    "\n",
    "y = y.reshape(2 * M, 1)\n",
    "\n",
    "print(y.shape)\n"
   ]
  },
  {
   "cell_type": "code",
   "execution_count": 43,
   "metadata": {},
   "outputs": [
    {
     "name": "stdout",
     "output_type": "stream",
     "text": [
      "136\n",
      "[0 0 0 0 0 0 0 0 0 0 0 0 0 0 0 0 0 0 0 0 0 0 0 0 0 0 0 0 0 0 0 0 0 0 0 0 0\n",
      " 0 0 0 0 0 0 0 0 0 0 0 0 0 0 0 0 0 0 0 0 0 0 0 0 0 0 0 0 0 0 0 0 0 0 0 0 0\n",
      " 0 0 0 0 0 0 0 0 0 0 0 0 0 0 0 0 0 0 0 0 0 0 0 0 0 0 0 0 0 0 0 0 0 0 0 0 0\n",
      " 0 0 0 0 0 0 0 0 0 0 0 0 0 0 0 0 0 0 0 0 0 0 0 0 0 1 0 0 0 0 0 0 0 0 0 0 0\n",
      " 0 0 0 0 0 0 0 0 0 0 0 0]\n",
      "(160,)\n"
     ]
    }
   ],
   "source": [
    "# Construct true timing offsets t_i as one-hot encoded vectors\n",
    "t_i = np.zeros(Nu, dtype=int)\n",
    "\n",
    "index = int(np.floor(tilde_tau + 0.5 * (Lc + tau_relax)))\n",
    "print(index)\n",
    "t_i[index] = 1\n",
    "print(t_i)\n",
    "print(t_i.shape)"
   ]
  },
  {
   "cell_type": "code",
   "execution_count": 53,
   "metadata": {},
   "outputs": [
    {
     "name": "stdout",
     "output_type": "stream",
     "text": [
      "Input dataset y (first example):\n",
      "(10, 576, 1)\n",
      "\n",
      "Data label t (first example):\n",
      "(10, 160)\n"
     ]
    }
   ],
   "source": [
    "dataset_y = []\n",
    "dataset_t = []\n",
    "eta = np.random.uniform(0.01, 0.5)\n",
    "\n",
    "N_train = 10e5\n",
    "for i in range(N_train):\n",
    "    (tau_p, h_tau_p) = calculate_channel_gain_multi_path()\n",
    "    s_cp = generate_transmitted_signal()\n",
    "    (tilde_tau, r_n) = generate_received_signal()\n",
    "    # Extract real and imaginary parts and interleave them\n",
    "    y_i = np.zeros(2 * M)\n",
    "    y_i[0::2] = np.real(r_n)  # Real parts at even indices\n",
    "    y_i[1::2] = np.imag(r_n)  # Imaginary parts at odd indices\n",
    "    y_i = y_i.reshape(2 * M, 1)\n",
    "\n",
    "    # Construct true timing offsets t_i as one-hot encoded vectors\n",
    "    t_i = np.zeros(Nu, dtype=int)\n",
    "\n",
    "    index = int(np.floor(tilde_tau + 0.5 * (Lc + tau_relax)))\n",
    "    t_i[index] = 1\n",
    "\n",
    "    dataset_y.append(y_i)\n",
    "    dataset_t.append(t_i)\n",
    "\n",
    "dataset_y = np.array(dataset_y)\n",
    "dataset_t = np.array(dataset_t)\n",
    "\n",
    "print(\"Input dataset y (first example):\")\n",
    "print(dataset_y.shape)\n",
    "print(\"\\nData label t (first example):\")\n",
    "print(dataset_t.shape)"
   ]
  }
 ],
 "metadata": {
  "kernelspec": {
   "display_name": "comm-env",
   "language": "python",
   "name": "python3"
  },
  "language_info": {
   "codemirror_mode": {
    "name": "ipython",
    "version": 3
   },
   "file_extension": ".py",
   "mimetype": "text/x-python",
   "name": "python",
   "nbconvert_exporter": "python",
   "pygments_lexer": "ipython3",
   "version": "3.9.6"
  }
 },
 "nbformat": 4,
 "nbformat_minor": 2
}
