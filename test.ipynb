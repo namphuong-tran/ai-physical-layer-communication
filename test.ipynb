{
 "cells": [
  {
   "cell_type": "code",
   "execution_count": 10,
   "metadata": {},
   "outputs": [],
   "source": [
    "import numpy as np"
   ]
  },
  {
   "cell_type": "code",
   "execution_count": 8,
   "metadata": {},
   "outputs": [
    {
     "name": "stdout",
     "output_type": "stream",
     "text": [
      "Path 1: tau_p = 0, alpha_p = 1.0000, phi_p = 2.0730, h_tau_p = -0.4814+0.8765j\n",
      "Path 2: tau_p = 1, alpha_p = 0.9302, phi_p = 5.5872, h_tau_p = 0.7139-0.5964j\n",
      "Path 3: tau_p = 1, alpha_p = 0.9302, phi_p = 3.2198, h_tau_p = -0.9274-0.0727j\n",
      "Path 4: tau_p = 2, alpha_p = 0.8653, phi_p = 3.2084, h_tau_p = -0.8634-0.0577j\n",
      "Path 5: tau_p = 4, alpha_p = 0.7488, phi_p = 2.4305, h_tau_p = -0.5673+0.4887j\n",
      "Path 6: tau_p = 4, alpha_p = 0.7488, phi_p = 3.3306, h_tau_p = -0.7354-0.1407j\n",
      "Path 7: tau_p = 4, alpha_p = 0.7488, phi_p = 5.9358, h_tau_p = 0.7040-0.2549j\n",
      "Path 8: tau_p = 4, alpha_p = 0.7488, phi_p = 5.6100, h_tau_p = 0.5854-0.4668j\n",
      "Path 9: tau_p = 6, alpha_p = 0.6479, phi_p = 4.2544, h_tau_p = -0.2865-0.5812j\n",
      "Path 10: tau_p = 7, alpha_p = 0.6027, phi_p = 4.0151, h_tau_p = -0.3870-0.4620j\n",
      "Path 11: tau_p = 8, alpha_p = 0.5607, phi_p = 3.4455, h_tau_p = -0.5350-0.1678j\n",
      "Path 12: tau_p = 8, alpha_p = 0.5607, phi_p = 1.7133, h_tau_p = -0.0796+0.5550j\n",
      "Path 13: tau_p = 9, alpha_p = 0.5215, phi_p = 0.9316, h_tau_p = 0.3111+0.4186j\n",
      "Path 14: tau_p = 11, alpha_p = 0.4513, phi_p = 5.3803, h_tau_p = 0.2795-0.3543j\n",
      "Path 15: tau_p = 11, alpha_p = 0.4513, phi_p = 3.9902, h_tau_p = -0.2983-0.3386j\n",
      "Path 16: tau_p = 13, alpha_p = 0.3905, phi_p = 1.8827, h_tau_p = -0.1198+0.3717j\n",
      "Path 17: tau_p = 14, alpha_p = 0.3633, phi_p = 2.8916, h_tau_p = -0.3520+0.0899j\n",
      "Path 18: tau_p = 19, alpha_p = 0.2530, phi_p = 0.1541, h_tau_p = 0.2500+0.0388j\n",
      "Path 19: tau_p = 19, alpha_p = 0.2530, phi_p = 3.5064, h_tau_p = -0.2364-0.0903j\n",
      "Path 20: tau_p = 19, alpha_p = 0.2530, phi_p = 2.2692, h_tau_p = -0.1627+0.1938j\n",
      "Path 21: tau_p = 19, alpha_p = 0.2530, phi_p = 3.1586, h_tau_p = -0.2530-0.0043j\n",
      "Path 22: tau_p = 20, alpha_p = 0.2354, phi_p = 0.9653, h_tau_p = 0.1340+0.1935j\n",
      "Path 23: tau_p = 21, alpha_p = 0.2189, phi_p = 2.6735, h_tau_p = -0.1954+0.0988j\n"
     ]
    }
   ],
   "source": [
    "tau_relax = 27\n",
    "delta_tau = 5\n",
    "P = 23\n",
    "eta = np.random.uniform(0.01, 0.5)\n",
    "\n",
    "# The direct path tau_p = 0 \n",
    "tau_p = [0]\n",
    "\n",
    "# Generate remaining delays tau_p using uniform distribution, excluding zero, allowing repeats\n",
    "remaining_tau_p = np.random.randint(1, tau_relax - delta_tau + 1, P - 1)\n",
    "\n",
    "# Combine and sort \n",
    "tau_p = np.concatenate((tau_p, remaining_tau_p))\n",
    "tau_p = np.sort(tau_p)\n",
    "\n",
    "# Calculate amplitude gains alpha_p of h_tau_p\n",
    "alpha_p = np.exp(-eta * tau_p / 2)\n",
    "\n",
    "# Generate random phases phi_p\n",
    "phi_p = np.random.uniform(0, 2 * np.pi, P)\n",
    "\n",
    "# Calculate complex gains h_tau_p\n",
    "h_tau_p = alpha_p * np.exp(1j * phi_p)\n",
    "\n",
    "for p in range(P):\n",
    "    print(f\"Path {p + 1}: tau_p = {tau_p[p]}, alpha_p = {alpha_p[p]:.4f}, phi_p = {phi_p[p]:.4f}, h_tau_p = {h_tau_p[p]:.4f}\")\n"
   ]
  },
  {
   "cell_type": "code",
   "execution_count": 13,
   "metadata": {},
   "outputs": [
    {
     "name": "stdout",
     "output_type": "stream",
     "text": [
      "Data symbols d_k:\n",
      "128\n",
      "\n",
      "Time-domain samples s_n:\n",
      "128\n",
      "\n",
      "Time-domain samples with cyclic prefix s_cp:\n",
      "160\n"
     ]
    }
   ],
   "source": [
    "N = 128  # Number of sub-carriers\n",
    "Lc = 32  # Length of cyclic prefix\n",
    "\n",
    "# Step 1: Generate the data symbols d_k\n",
    "np.random.seed(0)  \n",
    "d_k = np.random.randn(N) + 1j * np.random.randn(N)  # Generate random complex symbols\n",
    "\n",
    "# Step 2: Calculate the time-domain samples s_n using IDFT\n",
    "s_n = np.zeros(N, dtype=complex)\n",
    "\n",
    "for n in range(N):\n",
    "    s_n[n] = (1/N) * np.sum(d_k * np.exp(1j * 2 * np.pi * np.arange(N) * n / N))\n",
    "\n",
    "# Step 3: Append the cyclic prefix (CP)\n",
    "cp = s_n[-Lc:]  # Last Lc samples of s_n\n",
    "s_cp = np.concatenate((cp, s_n))  # Append CP to the beginning of s_n\n",
    "\n",
    "print(\"Data symbols d_k:\")\n",
    "print(len(d_k))\n",
    "print(\"\\nTime-domain samples s_n:\")\n",
    "print(len(s_n))\n",
    "print(\"\\nTime-domain samples with cyclic prefix s_cp:\")\n",
    "print(len(s_cp))\n"
   ]
  }
 ],
 "metadata": {
  "kernelspec": {
   "display_name": "comm-env",
   "language": "python",
   "name": "python3"
  },
  "language_info": {
   "codemirror_mode": {
    "name": "ipython",
    "version": 3
   },
   "file_extension": ".py",
   "mimetype": "text/x-python",
   "name": "python",
   "nbconvert_exporter": "python",
   "pygments_lexer": "ipython3",
   "version": "3.9.6"
  }
 },
 "nbformat": 4,
 "nbformat_minor": 2
}
