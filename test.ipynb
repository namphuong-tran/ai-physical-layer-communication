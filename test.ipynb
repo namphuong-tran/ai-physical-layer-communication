{
 "cells": [
  {
   "cell_type": "code",
   "execution_count": 1,
   "metadata": {},
   "outputs": [
    {
     "name": "stdout",
     "output_type": "stream",
     "text": [
      "Path 1: tau_p = 0, alpha_p = 1.0000, phi_p = 6.2424, h_tau_p = 0.9992-0.0408j\n",
      "Path 2: tau_p = 2, alpha_p = 0.7165, phi_p = 5.6255, h_tau_p = 0.5671-0.4380j\n",
      "Path 3: tau_p = 3, alpha_p = 0.6065, phi_p = 6.1479, h_tau_p = 0.6010-0.0818j\n",
      "Path 4: tau_p = 4, alpha_p = 0.5134, phi_p = 2.4698, h_tau_p = -0.4019+0.3195j\n",
      "Path 5: tau_p = 4, alpha_p = 0.5134, phi_p = 3.0759, h_tau_p = -0.5123+0.0337j\n",
      "Path 6: tau_p = 7, alpha_p = 0.3114, phi_p = 0.3936, h_tau_p = 0.2876+0.1194j\n",
      "Path 7: tau_p = 9, alpha_p = 0.2231, phi_p = 0.2203, h_tau_p = 0.2178+0.0488j\n",
      "Path 8: tau_p = 11, alpha_p = 0.1599, phi_p = 4.0531, h_tau_p = -0.0979-0.1264j\n",
      "Path 9: tau_p = 11, alpha_p = 0.1599, phi_p = 4.5297, h_tau_p = -0.0290-0.1572j\n",
      "Path 10: tau_p = 12, alpha_p = 0.1353, phi_p = 0.0294, h_tau_p = 0.1353+0.0040j\n",
      "Path 11: tau_p = 13, alpha_p = 0.1146, phi_p = 2.6159, h_tau_p = -0.0991+0.0575j\n",
      "Path 12: tau_p = 13, alpha_p = 0.1146, phi_p = 3.5269, h_tau_p = -0.1062-0.0431j\n",
      "Path 13: tau_p = 14, alpha_p = 0.0970, phi_p = 1.3733, h_tau_p = 0.0190+0.0951j\n",
      "Path 14: tau_p = 15, alpha_p = 0.0821, phi_p = 1.3858, h_tau_p = 0.0151+0.0807j\n",
      "Path 15: tau_p = 16, alpha_p = 0.0695, phi_p = 6.1363, h_tau_p = 0.0687-0.0102j\n",
      "Path 16: tau_p = 16, alpha_p = 0.0695, phi_p = 5.7892, h_tau_p = 0.0612-0.0329j\n",
      "Path 17: tau_p = 16, alpha_p = 0.0695, phi_p = 4.3283, h_tau_p = -0.0260-0.0644j\n",
      "Path 18: tau_p = 17, alpha_p = 0.0588, phi_p = 0.0042, h_tau_p = 0.0588+0.0002j\n",
      "Path 19: tau_p = 20, alpha_p = 0.0357, phi_p = 1.3852, h_tau_p = 0.0066+0.0351j\n",
      "Path 20: tau_p = 21, alpha_p = 0.0302, phi_p = 4.9875, h_tau_p = 0.0082-0.0291j\n",
      "Path 21: tau_p = 21, alpha_p = 0.0302, phi_p = 5.1137, h_tau_p = 0.0118-0.0278j\n",
      "Path 22: tau_p = 21, alpha_p = 0.0302, phi_p = 2.0527, h_tau_p = -0.0140+0.0268j\n",
      "Path 23: tau_p = 22, alpha_p = 0.0256, phi_p = 0.4149, h_tau_p = 0.0234+0.0103j\n"
     ]
    }
   ],
   "source": [
    "import numpy as np\n",
    "\n",
    "tau_relax = 27\n",
    "delta_tau = 5\n",
    "P = 23\n",
    "eta = np.random.uniform(0.01, 0.5)\n",
    "\n",
    "# The direct path tau_p = 0 \n",
    "tau_p = [0]\n",
    "\n",
    "# Generate remaining delays tau_p using uniform distribution, excluding zero, allowing repeats\n",
    "remaining_tau_p = np.random.randint(1, tau_relax - delta_tau + 1, P - 1)\n",
    "\n",
    "# Combine and sort \n",
    "tau_p = np.concatenate((tau_p, remaining_tau_p))\n",
    "tau_p = np.sort(tau_p)\n",
    "\n",
    "# Calculate amplitude gains alpha_p of h_tau_p\n",
    "alpha_p = np.exp(-eta * tau_p / 2)\n",
    "\n",
    "# Generate random phases phi_p\n",
    "phi_p = np.random.uniform(0, 2 * np.pi, P)\n",
    "\n",
    "# Calculate complex gains h_tau_p\n",
    "h_tau_p = alpha_p * np.exp(1j * phi_p)\n",
    "\n",
    "for p in range(P):\n",
    "    print(f\"Path {p + 1}: tau_p = {tau_p[p]}, alpha_p = {alpha_p[p]:.4f}, phi_p = {phi_p[p]:.4f}, h_tau_p = {h_tau_p[p]:.4f}\")\n"
   ]
  }
 ],
 "metadata": {
  "kernelspec": {
   "display_name": "comm-env",
   "language": "python",
   "name": "python3"
  },
  "language_info": {
   "codemirror_mode": {
    "name": "ipython",
    "version": 3
   },
   "file_extension": ".py",
   "mimetype": "text/x-python",
   "name": "python",
   "nbconvert_exporter": "python",
   "pygments_lexer": "ipython3",
   "version": "3.9.6"
  }
 },
 "nbformat": 4,
 "nbformat_minor": 2
}
